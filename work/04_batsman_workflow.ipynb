{
 "cells": [
  {
   "cell_type": "code",
   "execution_count": 8,
   "id": "05673794",
   "metadata": {},
   "outputs": [],
   "source": [
    "from langgraph.graph import StateGraph, START, END\n",
    "from typing import TypedDict"
   ]
  },
  {
   "cell_type": "code",
   "execution_count": 9,
   "id": "1e9abfbc",
   "metadata": {},
   "outputs": [],
   "source": [
    "class BatsmanState(TypedDict):\n",
    "#  Given\n",
    "    runs: int\n",
    "    balls: int\n",
    "    sixes: int\n",
    "    fours: int\n",
    "\n",
    "#  To calculate\n",
    "    sr: float\n",
    "    bpb: float\n",
    "    boundary_percent: float\n",
    "    summary: str"
   ]
  },
  {
   "cell_type": "code",
   "execution_count": 25,
   "id": "43c9b83a",
   "metadata": {},
   "outputs": [],
   "source": [
    "def calculate_sr(state: BatsmanState):\n",
    "\n",
    "    sr =  (state['runs'] / state['balls']) *100\n",
    "    \n",
    "    \n",
    "    return {'sr': sr}"
   ]
  },
  {
   "cell_type": "code",
   "execution_count": 26,
   "id": "45f96793",
   "metadata": {},
   "outputs": [],
   "source": [
    "def calculate_bpb(state: BatsmanState):\n",
    "    \n",
    "    bpb = state['balls']/state['fours'] + state['sixes']\n",
    "    \n",
    "\n",
    "    return {'bpb':bpb}"
   ]
  },
  {
   "cell_type": "code",
   "execution_count": 27,
   "id": "51583700",
   "metadata": {},
   "outputs": [],
   "source": [
    "def calculate_boundary_percent(state: BatsmanState):\n",
    "    \n",
    "    boundary_percent = (((state['fours']* 4 + state['sixes'] * 6))/state[\n",
    "        'runs'])*100\n",
    "  \n",
    "    return {'boundary_percent': boundary_percent}"
   ]
  },
  {
   "cell_type": "code",
   "execution_count": 28,
   "id": "d8001edc",
   "metadata": {},
   "outputs": [],
   "source": [
    "def summary(state: BatsmanState):\n",
    "    \n",
    "    summary = f\"\"\"\n",
    "    Strike Rate- {state['sr']} \\n\n",
    "    Balls per boundary - {state['boundary_percent']}\n",
    "    \"\"\"\n",
    "    \n",
    "    return {'summary': summary}"
   ]
  },
  {
   "cell_type": "code",
   "execution_count": 29,
   "id": "58bcaba0",
   "metadata": {},
   "outputs": [],
   "source": [
    "# create a graph\n",
    "graph = StateGraph(BatsmanState)\n",
    "\n",
    "# nodes\n",
    "graph.add_node('calculate_sr',calculate_sr)\n",
    "graph.add_node('calculate_bpb',calculate_bpb)\n",
    "graph.add_node('calculate_boundary_percent',calculate_boundary_percent)\n",
    "graph.add_node('summary', summary) \n",
    "\n",
    "# edges\n",
    "graph.add_edge(START, 'calculate_sr')\n",
    "graph.add_edge(START, 'calculate_bpb')   # parallel \n",
    "graph.add_edge(START, 'calculate_boundary_percent')\n",
    "\n",
    "graph.add_edge('calculate_sr','summary')\n",
    "graph.add_edge('calculate_bpb','summary') # parallel\n",
    "graph.add_edge('calculate_boundary_percent','summary')\n",
    "\n",
    "graph.add_edge('summary', END)\n",
    "\n",
    "workflow = graph.compile()"
   ]
  },
  {
   "cell_type": "code",
   "execution_count": 30,
   "id": "d9870da2",
   "metadata": {},
   "outputs": [
    {
     "data": {
      "image/png": "[encoded data removed]",
      "text/plain": [
       "<langgraph.graph.state.CompiledStateGraph object at 0x000001A5A15D5E10>"
      ]
     },
     "execution_count": 30,
     "metadata": {},
     "output_type": "execute_result"
    }
   ],
   "source": [
    "workflow"
   ]
  },
  {
   "cell_type": "code",
   "execution_count": 31,
   "id": "101508f5",
   "metadata": {},
   "outputs": [
    {
     "data": {
      "text/plain": [
       "{'runs': 100,\n",
       " 'balls': 50,\n",
       " 'sixes': 4,\n",
       " 'fours': 6,\n",
       " 'sr': 200.0,\n",
       " 'bpb': 12.333333333333334,\n",
       " 'boundary_percent': 48.0,\n",
       " 'summary': '\\n    Strike Rate- 200.0 \\n\\n    Balls per boundary - 48.0\\n    '}"
      ]
     },
     "execution_count": 31,
     "metadata": {},
     "output_type": "execute_result"
    }
   ],
   "source": [
    "initial_state = {\n",
    "    'runs': 100,\n",
    "    'balls': 50,\n",
    "    'fours': 6,\n",
    "    'sixes': 4\n",
    "}\n",
    "\n",
    "workflow.invoke(initial_state)"
   ]
  },
  {
   "cell_type": "code",
   "execution_count": null,
   "id": "15a854e1",
   "metadata": {},
   "outputs": [],
   "source": []
  }
 ],
 "metadata": {
  "kernelspec": {
   "display_name": ".venv",
   "language": "python",
   "name": "python3"
  },
  "language_info": {
   "codemirror_mode": {
    "name": "ipython",
    "version": 3
   },
   "file_extension": ".py",
   "mimetype": "text/x-python",
   "name": "python",
   "nbconvert_exporter": "python",
   "pygments_lexer": "ipython3",
   "version": "3.11.13"
  }
 },
 "nbformat": 4,
 "nbformat_minor": 5
}
