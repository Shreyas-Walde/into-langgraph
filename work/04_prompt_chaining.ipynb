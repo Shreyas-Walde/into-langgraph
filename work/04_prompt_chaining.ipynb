{
 "cells": [
  {
   "cell_type": "code",
   "execution_count": 1,
   "id": "da5bf692",
   "metadata": {},
   "outputs": [
    {
     "data": {
      "text/plain": [
       "True"
      ]
     },
     "execution_count": 1,
     "metadata": {},
     "output_type": "execute_result"
    }
   ],
   "source": [
    "from langgraph.graph import StateGraph, START, END\n",
    "from langchain_google_genai import ChatGoogleGenerativeAI\n",
    "from typing import TypedDict\n",
    "from dotenv import load_dotenv\n",
    "\n",
    "load_dotenv()"
   ]
  },
  {
   "cell_type": "code",
   "execution_count": 2,
   "id": "9edc5d7e",
   "metadata": {},
   "outputs": [],
   "source": [
    "model = ChatGoogleGenerativeAI(model='gemini-2.0-flash')    "
   ]
  },
  {
   "cell_type": "code",
   "execution_count": 3,
   "id": "3fda2bf1",
   "metadata": {},
   "outputs": [],
   "source": [
    "class BlogState(TypedDict): \n",
    "    title: str\n",
    "    outline: str\n",
    "    content: str "
   ]
  },
  {
   "cell_type": "code",
   "execution_count": 4,
   "id": "3408a1db",
   "metadata": {},
   "outputs": [],
   "source": [
    "def create_outline(state: BlogState) -> BlogState:\n",
    "#              input state , Object BlogState\n",
    "    \n",
    "    # fetch title\n",
    "    title = state['title']\n",
    "\n",
    "    # call llm get outline\n",
    "    prompt = f'Generate an detailed outline for blog on the topic - {title}'\n",
    "    outline = model.invoke(prompt).content\n",
    "    \n",
    "    # update state\n",
    "    state['outline'] = outline\n",
    "\n",
    "    return state"
   ]
  },
  {
   "cell_type": "code",
   "execution_count": 5,
   "id": "321be40e",
   "metadata": {},
   "outputs": [],
   "source": [
    "from turtle import title\n",
    "\n",
    "\n",
    "def create_blog(state: BlogState) -> BlogState: \n",
    "\n",
    "    # fetch title and outline\n",
    "    title = state['title']\n",
    "    outline = state['outline']\n",
    "\n",
    "    # call LLM to get the Blog\n",
    "    prompt = f'Write a detailed blog on the title - {title} using the follwoing outline \\n {outline}'\n",
    "    content = model.invoke(prompt).content\n",
    "\n",
    "    state['content'] = content\n",
    "\n",
    "    return state"
   ]
  },
  {
   "cell_type": "code",
   "execution_count": 8,
   "id": "40d3aa91",
   "metadata": {},
   "outputs": [],
   "source": [
    "# create graph\n",
    "graph = StateGraph(BlogState)\n",
    "\n",
    "# nodes                 \n",
    "graph.add_node('create_outline', create_outline) #function\n",
    "graph.add_node('create_blog',create_blog)\n",
    "\n",
    "# edge\n",
    "graph.add_edge(START, 'create_outline')\n",
    "graph.add_edge('create_outline', 'create_blog')\n",
    "graph.add_edge('create_blog', END)\n",
    "\n",
    "workflow = graph.compile()"
   ]
  },
  {
   "cell_type": "code",
   "execution_count": 9,
   "id": "6a2568e1",
   "metadata": {},
   "outputs": [
    {
     "name": "stdout",
     "output_type": "stream",
     "text": [
      "{'title': 'What was nitin gadkari doing with 7 years old in car?', 'outline': '## Blog Outline: What Was Nitin Gadkari Doing with a 7-Year-Old in a Car? (Focusing on Road Safety and Legal Context)\\n\\n**I. Introduction (Grabbing Attention and Setting the Context)**\\n\\n*   **A. Hook:** Start with a compelling question or statement that acknowledges the curiosity surrounding the incident but pivots to the more important issue: road safety for children.\\n    *   Example: \"A photo of Nitin Gadkari with a young child in a car sparked questions. But let\\'s move beyond the snapshot and talk about something far more crucial: keeping our children safe on the road.\"\\n*   **B. Briefly mention the incident:** Acknowledge the existence of the photo/video and the initial questions it raised.  Keep it neutral and avoid sensationalizing.\\n*   **C. Thesis Statement:** The purpose of this blog is to explore the importance of child safety in vehicles, the relevant laws and regulations in India, and how even well-intentioned actions can inadvertently violate safety protocols.  We will use the Gadkari incident as a springboard to discuss broader issues.\\n*   **D. Blog Structure Overview:** Briefly outline what the blog will cover (e.g., existing laws, best practices, potential consequences, and a call to action).\\n\\n**II. Understanding the Law: Child Safety in Vehicles in India**\\n\\n*   **A. The Motor Vehicles Act and Amendments:**\\n    *   Explain the relevant sections of the Motor Vehicles Act (1988) and any subsequent amendments pertaining to child safety in vehicles.\\n    *   Specifically, highlight any clauses related to:\\n        *   Child restraints (car seats)\\n        *   Seat belt usage for children\\n        *   General responsibilities of the driver\\n*   **B. The Reality of Enforcement:**\\n    *   Discuss the current state of enforcement of these laws in India.\\n    *   Are they consistently applied across states?\\n    *   Are there awareness campaigns to educate the public?\\n    *   Cite statistics or reports about child passenger safety in India.\\n*   **C. Loopholes and Gray Areas:**\\n    *   Explore any ambiguities or areas where the law may be unclear regarding specific age groups or vehicle types.\\n    *   Are there exemptions for certain situations (e.g., taxis, public transport)?\\n\\n**III. Best Practices for Child Passenger Safety (Beyond the Law)**\\n\\n*   **A. Age and Weight-Based Car Seat Recommendations:**\\n    *   Provide a clear and concise guide to choosing the right car seat based on a child\\'s age, weight, and height.\\n    *   Include different types of car seats: infant car seats, convertible car seats, booster seats.\\n    *   Explain the importance of proper installation.\\n*   **B. The Importance of Rear-Facing:**\\n    *   Emphasize the benefits of keeping children rear-facing for as long as possible (according to their car seat\\'s weight and height limits).\\n    *   Explain the physics behind why rear-facing is safer.\\n*   **C. Seat Belt Safety for Older Children:**\\n    *   When is a child ready to transition from a booster seat to a regular seat belt?\\n    *   How to ensure a proper seat belt fit: lap belt across the hips, shoulder belt across the chest and shoulder, not the neck.\\n*   **D.  General Safety Tips:**\\n    *   Never leave a child unattended in a vehicle.\\n    *   Keep the car locked and keys out of reach.\\n    *   Educate children about road safety rules.\\n    *   Avoid distractions while driving.\\n\\n**IV. Analyzing the Gadkari Incident (Objectively and Respectfully)**\\n\\n*   **A. State the Facts:** Briefly reiterate the specifics of the incident (e.g., the photo/video, the age of the child).\\n*   **B.  Potential Violations:** Analyze whether the situation, based on available information, potentially violated any existing laws or best practices.  Avoid making definitive accusations.\\n*   **C.  Possible Explanations:**  Consider potential reasons for the situation, acknowledging that there may be more to the story than meets the eye.\\n*   **D.  The Importance of Setting an Example:** Emphasize that public figures have a responsibility to model safe behavior, especially when it comes to children.\\n*   **E.  Avoiding Misinformation:** Caution readers against spreading unverified information or jumping to conclusions.\\n\\n**V. Consequences of Ignoring Child Safety Regulations**\\n\\n*   **A. Legal Penalties:** Outline the potential fines or other penalties for violating child safety regulations in India (if any exist and are enforced).\\n*   **B. The Risk of Injury:** Highlight the devastating consequences of accidents involving unrestrained children.\\n    *   Share statistics on child injuries and fatalities in car accidents in India.\\n    *   Describe the types of injuries that are common in unrestrained children.\\n*   **C. Emotional Trauma:** Discuss the long-term emotional impact on families who experience a car accident involving a child.\\n*   **D. The Preventable Nature of these Tragedies:** Emphasize that many of these injuries and fatalities are preventable with proper safety measures.\\n\\n**VI. Call to Action: Promoting Road Safety for Children**\\n\\n*   **A.  Individual Actions:**\\n    *   Encourage readers to educate themselves about child passenger safety.\\n    *   Urge readers to always use appropriate car seats or seat belts for their children.\\n    *   Promote safe driving habits.\\n*   **B.  Community Advocacy:**\\n    *   Suggest ways to advocate for stricter enforcement of child safety laws.\\n    *   Encourage readers to support organizations that promote road safety for children.\\n    *   Promote awareness campaigns in their communities.\\n*   **C.  Government Responsibility:**\\n    *   Call on the government to strengthen child safety laws and regulations.\\n    *   Advocate for increased funding for road safety education and enforcement.\\n*   **D.  Concluding Statement:** Reiterate the importance of prioritizing child safety on the road and creating a safer environment for all children.  Emphasize that this is a collective responsibility.\\n\\n**VII. Conclusion:**\\n\\n*   **A.  Restate Thesis:** Briefly summarize the key takeaways of the blog.\\n*   **B.  Final Thought:** End with a powerful statement that reinforces the importance of child safety and encourages readers to take action.\\n    *   Example: \"Protecting our children on the road is not just a matter of law; it\\'s a moral imperative. Let\\'s make a commitment to prioritize their safety and create a future where every child arrives home safely.\"\\n\\n**Important Considerations:**\\n\\n*   **Tone:** Maintain a respectful and objective tone throughout the blog. Avoid sensationalizing the Gadkari incident and focus on the broader issue of child safety.\\n*   **Accuracy:** Ensure that all information presented is accurate and based on reliable sources. Cite sources appropriately.\\n*   **Visuals:** Use relevant images and videos to illustrate key points and enhance engagement.\\n*   **SEO Optimization:** Optimize the blog post for relevant keywords to improve its search engine ranking.\\n*   **Disclaimer:** Consider adding a disclaimer stating that the blog is for informational purposes only and does not constitute legal advice.\\n*   **Fact-Checking:** Double-check all facts and statistics before publishing.\\n\\nThis detailed outline provides a framework for a comprehensive and informative blog post that addresses the initial curiosity surrounding the Gadkari incident while shifting the focus to the more critical issue of child passenger safety in India. Remember to adapt the outline to your specific research and perspective.', 'content': \"## Blog: What Was Nitin Gadkari Doing with a 7-Year-Old in a Car? A Deeper Look at Child Road Safety in India\\n\\n**I. Introduction (Grabbing Attention and Setting the Context)**\\n\\n**A. Hook:** A photo circulating online showed Union Minister Nitin Gadkari with a young child in a car, sparking immediate questions. While the image itself might be fleeting, the conversation it ignited offers a crucial opportunity. Let's move beyond the snapshot and delve into something far more vital: ensuring the safety of our children on Indian roads.\\n\\n**B. Briefly mention the incident:**  The image, shared widely on social media, depicted Mr. Gadkari and a child inside a vehicle. The context surrounding the photo and the nature of their interaction remain largely unknown.\\n\\n**C. Thesis Statement:** This blog aims to use the Gadkari incident as a springboard to explore the critical importance of child safety in vehicles in India. We will examine the existing laws and regulations, discuss best practices for keeping children safe on the road, and highlight the responsibility we all share in protecting our youngest passengers.\\n\\n**D. Blog Structure Overview:**  We'll begin by dissecting the legal framework surrounding child safety in vehicles in India, then move onto practical advice and best practices. We'll objectively analyze the Gadkari incident, discuss the consequences of neglecting child safety, and finally, issue a call to action, urging everyone to prioritize child passenger safety.\\n\\n**II. Understanding the Law: Child Safety in Vehicles in India**\\n\\n**A. The Motor Vehicles Act and Amendments:**\\n\\n*   The Motor Vehicles Act, 1988, forms the foundation for road safety regulations in India. While the Act itself doesn't explicitly mandate car seats for children in private vehicles, it emphasizes the general responsibility of drivers to ensure the safety of all passengers.\\n*   **Relevant Sections:** Section 194B of the Act deals with the use of safety belts and provides for penalties for non-compliance. However, its application to children, particularly regarding mandatory child restraints, remains somewhat ambiguous.\\n*   **Amendments:** The 2019 amendment to the Motor Vehicles Act introduced stricter penalties for traffic violations, including those related to safety. While it didn't specifically address child car seats, it reinforced the importance of adhering to safety norms.\\n*   **Seat Belt Usage:** The law generally requires all occupants to wear seat belts where available. However, the suitability of adult seat belts for young children is questionable, highlighting the need for dedicated child restraint systems.\\n\\n**B. The Reality of Enforcement:**\\n\\n*   Enforcement of child safety regulations in India is, unfortunately, inconsistent and often lacking.\\n*   **Varied Application:** Implementation varies significantly across states, with some states being more proactive than others in promoting and enforcing road safety rules.\\n*   **Awareness Campaigns:** While some awareness campaigns exist, they are often insufficient to reach a large segment of the population. Many parents are unaware of the importance of car seats and the proper way to use them.\\n*   **Statistics:**  Data on child passenger safety in India paints a grim picture. Road accidents are a leading cause of death and injury for children, and a significant proportion of these cases involve unrestrained children in vehicles. According to a 2022 report by SaveLIFE Foundation, 9 children die every day on Indian roads.\\n\\n**C. Loopholes and Gray Areas:**\\n\\n*   **Ambiguity:** The lack of specific legislation mandating car seats for children in private vehicles creates a significant loophole.\\n*   **Age and Size Limitations:** The law doesn't explicitly define the age or size criteria for when a child can safely transition from a car seat to a regular seat belt.\\n*   **Exemptions:**  The application of seat belt laws to taxis and public transport vehicles is often unclear and inconsistently enforced.\\n\\n**III. Best Practices for Child Passenger Safety (Beyond the Law)**\\n\\n**A. Age and Weight-Based Car Seat Recommendations:**\\n\\n*   **Infant Car Seats (Birth to 1 year, up to 20-35 lbs):** Designed for newborns and infants, these seats are always rear-facing.\\n*   **Convertible Car Seats (Birth to 4+ years, up to 40-65 lbs):** These seats can be used rear-facing initially and then converted to forward-facing as the child grows.\\n*   **Booster Seats (4 to 12 years, 40-100 lbs):**  Used to elevate children so that the adult seat belt fits properly.\\n*   **Proper Installation:** Correct installation is crucial for the effectiveness of a car seat. Always follow the manufacturer's instructions and consider getting the seat professionally installed.\\n\\n**B. The Importance of Rear-Facing:**\\n\\n*   Rear-facing car seats provide the best protection for infants and young children.\\n*   **Physics:** In a crash, a rear-facing seat distributes the impact force across the child's entire back, neck, and head, reducing the risk of serious injury.\\n*   **Extended Rear-Facing:** Keep children rear-facing for as long as possible, until they reach the maximum weight or height limit specified by the car seat manufacturer.\\n\\n**C. Seat Belt Safety for Older Children:**\\n\\n*   **Transition to Booster:** A child is ready to transition to a booster seat when they have outgrown their forward-facing car seat (height or weight limits).\\n*   **Proper Fit:**  A seat belt fits properly when the lap belt lies low and snug across the hips, and the shoulder belt crosses the chest and shoulder, not the neck.\\n*   **Seat Belt Readiness:** A child can transition to a regular seat belt when they can sit with their back against the seat, knees bent comfortably over the edge, and maintain the proper seat belt fit.\\n\\n**D. General Safety Tips:**\\n\\n*   Never leave a child unattended in a vehicle.\\n*   Keep the car locked and keys out of reach.\\n*   Educate children about road safety rules.\\n*   Avoid distractions while driving (e.g., phone calls, texting).\\n\\n**IV. Analyzing the Gadkari Incident (Objectively and Respectfully)**\\n\\n**A. State the Facts:** A photo surfaced showing Mr. Gadkari in a car with a child, estimated to be around 7 years old.  The child's seating arrangement and whether appropriate safety measures were in place are not definitively clear from the available image.\\n\\n**B. Potential Violations:**  Without more information, it's difficult to determine if any specific laws were violated. However, if the child was not properly restrained in a car seat or booster seat, it could be considered a lapse in adhering to best practices for child passenger safety.\\n\\n**C. Possible Explanations:**  It's possible the child was only in the car for a short distance, or that other safety measures were in place that weren't visible in the photo. It's important to avoid making assumptions without complete information.\\n\\n**D. The Importance of Setting an Example:** Public figures have a significant influence on public behavior.  By consistently modeling safe behavior, especially concerning children, they can contribute to a culture of safety.\\n\\n**E. Avoiding Misinformation:**  It's crucial to avoid spreading unverified information or jumping to conclusions about the incident. Focus on the broader issue of child safety rather than dwelling on speculation.\\n\\n**V. Consequences of Ignoring Child Safety Regulations**\\n\\n**A. Legal Penalties:**  While specific penalties for not using car seats are lacking in many areas, general traffic violations related to passenger safety can result in fines.\\n\\n**B. The Risk of Injury:**\\n\\n*   **Statistics:**  Unrestrained children are significantly more likely to be injured or killed in a car accident.  Head injuries, spinal cord injuries, and internal organ damage are common.\\n*   **Increased Risk:**  An unrestrained child becomes a projectile in a crash, posing a danger to themselves and other passengers.\\n\\n**C. Emotional Trauma:**  The trauma of a car accident involving a child can have long-lasting emotional consequences for the entire family.\\n\\n**D. The Preventable Nature of these Tragedies:**  Many child injuries and fatalities in car accidents are preventable with the use of appropriate car seats and seat belts.\\n\\n**VI. Call to Action: Promoting Road Safety for Children**\\n\\n**A. Individual Actions:**\\n\\n*   Educate yourself about child passenger safety and the proper use of car seats.\\n*   Always use appropriate car seats or seat belts for your children, regardless of the distance traveled.\\n*   Practice safe driving habits and avoid distractions.\\n\\n**B. Community Advocacy:**\\n\\n*   Advocate for stricter enforcement of child safety laws in your community.\\n*   Support organizations that promote road safety for children.\\n*   Organize awareness campaigns to educate parents and caregivers.\\n\\n**C. Government Responsibility:**\\n\\n*   Strengthen child safety laws and regulations, including mandatory car seat requirements.\\n*   Increase funding for road safety education and enforcement.\\n*   Implement public awareness campaigns to promote child passenger safety.\\n\\n**D. Concluding Statement:** Protecting our children on the road is a collective responsibility. By prioritizing their safety and taking proactive measures, we can create a safer environment for all children.\\n\\n**VII. Conclusion:**\\n\\n**A. Restate Thesis:** The Gadkari incident, while initially sparking curiosity, serves as a crucial reminder of the importance of child safety in vehicles in India.  We've explored the legal landscape, examined best practices, and highlighted the need for individual and collective action.\\n\\n**B. Final Thought:** The safety of our children is non-negotiable. Let's commit to making every journey a safe one, ensuring that every child arrives home safely. This isn't just a matter of law; it's a moral imperative.\"}\n"
     ]
    }
   ],
   "source": [
    "initial_state = {'title': 'What was nitin gadkari doing with 7 years old in car?'}\n",
    "\n",
    "final_state = workflow.invoke(initial_state)\n",
    "\n",
    "print(final_state)"
   ]
  },
  {
   "cell_type": "code",
   "execution_count": 10,
   "id": "3153194e",
   "metadata": {},
   "outputs": [
    {
     "data": {
      "text/plain": [
       "'## Blog Outline: What Was Nitin Gadkari Doing with a 7-Year-Old in a Car? (Focusing on Road Safety and Legal Context)\\n\\n**I. Introduction (Grabbing Attention and Setting the Context)**\\n\\n*   **A. Hook:** Start with a compelling question or statement that acknowledges the curiosity surrounding the incident but pivots to the more important issue: road safety for children.\\n    *   Example: \"A photo of Nitin Gadkari with a young child in a car sparked questions. But let\\'s move beyond the snapshot and talk about something far more crucial: keeping our children safe on the road.\"\\n*   **B. Briefly mention the incident:** Acknowledge the existence of the photo/video and the initial questions it raised.  Keep it neutral and avoid sensationalizing.\\n*   **C. Thesis Statement:** The purpose of this blog is to explore the importance of child safety in vehicles, the relevant laws and regulations in India, and how even well-intentioned actions can inadvertently violate safety protocols.  We will use the Gadkari incident as a springboard to discuss broader issues.\\n*   **D. Blog Structure Overview:** Briefly outline what the blog will cover (e.g., existing laws, best practices, potential consequences, and a call to action).\\n\\n**II. Understanding the Law: Child Safety in Vehicles in India**\\n\\n*   **A. The Motor Vehicles Act and Amendments:**\\n    *   Explain the relevant sections of the Motor Vehicles Act (1988) and any subsequent amendments pertaining to child safety in vehicles.\\n    *   Specifically, highlight any clauses related to:\\n        *   Child restraints (car seats)\\n        *   Seat belt usage for children\\n        *   General responsibilities of the driver\\n*   **B. The Reality of Enforcement:**\\n    *   Discuss the current state of enforcement of these laws in India.\\n    *   Are they consistently applied across states?\\n    *   Are there awareness campaigns to educate the public?\\n    *   Cite statistics or reports about child passenger safety in India.\\n*   **C. Loopholes and Gray Areas:**\\n    *   Explore any ambiguities or areas where the law may be unclear regarding specific age groups or vehicle types.\\n    *   Are there exemptions for certain situations (e.g., taxis, public transport)?\\n\\n**III. Best Practices for Child Passenger Safety (Beyond the Law)**\\n\\n*   **A. Age and Weight-Based Car Seat Recommendations:**\\n    *   Provide a clear and concise guide to choosing the right car seat based on a child\\'s age, weight, and height.\\n    *   Include different types of car seats: infant car seats, convertible car seats, booster seats.\\n    *   Explain the importance of proper installation.\\n*   **B. The Importance of Rear-Facing:**\\n    *   Emphasize the benefits of keeping children rear-facing for as long as possible (according to their car seat\\'s weight and height limits).\\n    *   Explain the physics behind why rear-facing is safer.\\n*   **C. Seat Belt Safety for Older Children:**\\n    *   When is a child ready to transition from a booster seat to a regular seat belt?\\n    *   How to ensure a proper seat belt fit: lap belt across the hips, shoulder belt across the chest and shoulder, not the neck.\\n*   **D.  General Safety Tips:**\\n    *   Never leave a child unattended in a vehicle.\\n    *   Keep the car locked and keys out of reach.\\n    *   Educate children about road safety rules.\\n    *   Avoid distractions while driving.\\n\\n**IV. Analyzing the Gadkari Incident (Objectively and Respectfully)**\\n\\n*   **A. State the Facts:** Briefly reiterate the specifics of the incident (e.g., the photo/video, the age of the child).\\n*   **B.  Potential Violations:** Analyze whether the situation, based on available information, potentially violated any existing laws or best practices.  Avoid making definitive accusations.\\n*   **C.  Possible Explanations:**  Consider potential reasons for the situation, acknowledging that there may be more to the story than meets the eye.\\n*   **D.  The Importance of Setting an Example:** Emphasize that public figures have a responsibility to model safe behavior, especially when it comes to children.\\n*   **E.  Avoiding Misinformation:** Caution readers against spreading unverified information or jumping to conclusions.\\n\\n**V. Consequences of Ignoring Child Safety Regulations**\\n\\n*   **A. Legal Penalties:** Outline the potential fines or other penalties for violating child safety regulations in India (if any exist and are enforced).\\n*   **B. The Risk of Injury:** Highlight the devastating consequences of accidents involving unrestrained children.\\n    *   Share statistics on child injuries and fatalities in car accidents in India.\\n    *   Describe the types of injuries that are common in unrestrained children.\\n*   **C. Emotional Trauma:** Discuss the long-term emotional impact on families who experience a car accident involving a child.\\n*   **D. The Preventable Nature of these Tragedies:** Emphasize that many of these injuries and fatalities are preventable with proper safety measures.\\n\\n**VI. Call to Action: Promoting Road Safety for Children**\\n\\n*   **A.  Individual Actions:**\\n    *   Encourage readers to educate themselves about child passenger safety.\\n    *   Urge readers to always use appropriate car seats or seat belts for their children.\\n    *   Promote safe driving habits.\\n*   **B.  Community Advocacy:**\\n    *   Suggest ways to advocate for stricter enforcement of child safety laws.\\n    *   Encourage readers to support organizations that promote road safety for children.\\n    *   Promote awareness campaigns in their communities.\\n*   **C.  Government Responsibility:**\\n    *   Call on the government to strengthen child safety laws and regulations.\\n    *   Advocate for increased funding for road safety education and enforcement.\\n*   **D.  Concluding Statement:** Reiterate the importance of prioritizing child safety on the road and creating a safer environment for all children.  Emphasize that this is a collective responsibility.\\n\\n**VII. Conclusion:**\\n\\n*   **A.  Restate Thesis:** Briefly summarize the key takeaways of the blog.\\n*   **B.  Final Thought:** End with a powerful statement that reinforces the importance of child safety and encourages readers to take action.\\n    *   Example: \"Protecting our children on the road is not just a matter of law; it\\'s a moral imperative. Let\\'s make a commitment to prioritize their safety and create a future where every child arrives home safely.\"\\n\\n**Important Considerations:**\\n\\n*   **Tone:** Maintain a respectful and objective tone throughout the blog. Avoid sensationalizing the Gadkari incident and focus on the broader issue of child safety.\\n*   **Accuracy:** Ensure that all information presented is accurate and based on reliable sources. Cite sources appropriately.\\n*   **Visuals:** Use relevant images and videos to illustrate key points and enhance engagement.\\n*   **SEO Optimization:** Optimize the blog post for relevant keywords to improve its search engine ranking.\\n*   **Disclaimer:** Consider adding a disclaimer stating that the blog is for informational purposes only and does not constitute legal advice.\\n*   **Fact-Checking:** Double-check all facts and statistics before publishing.\\n\\nThis detailed outline provides a framework for a comprehensive and informative blog post that addresses the initial curiosity surrounding the Gadkari incident while shifting the focus to the more critical issue of child passenger safety in India. Remember to adapt the outline to your specific research and perspective.'"
      ]
     },
     "execution_count": 10,
     "metadata": {},
     "output_type": "execute_result"
    }
   ],
   "source": [
    "final_state['outline']"
   ]
  },
  {
   "cell_type": "code",
   "execution_count": 11,
   "id": "822170f4",
   "metadata": {},
   "outputs": [
    {
     "data": {
      "text/plain": [
       "\"## Blog: What Was Nitin Gadkari Doing with a 7-Year-Old in a Car? A Deeper Look at Child Road Safety in India\\n\\n**I. Introduction (Grabbing Attention and Setting the Context)**\\n\\n**A. Hook:** A photo circulating online showed Union Minister Nitin Gadkari with a young child in a car, sparking immediate questions. While the image itself might be fleeting, the conversation it ignited offers a crucial opportunity. Let's move beyond the snapshot and delve into something far more vital: ensuring the safety of our children on Indian roads.\\n\\n**B. Briefly mention the incident:**  The image, shared widely on social media, depicted Mr. Gadkari and a child inside a vehicle. The context surrounding the photo and the nature of their interaction remain largely unknown.\\n\\n**C. Thesis Statement:** This blog aims to use the Gadkari incident as a springboard to explore the critical importance of child safety in vehicles in India. We will examine the existing laws and regulations, discuss best practices for keeping children safe on the road, and highlight the responsibility we all share in protecting our youngest passengers.\\n\\n**D. Blog Structure Overview:**  We'll begin by dissecting the legal framework surrounding child safety in vehicles in India, then move onto practical advice and best practices. We'll objectively analyze the Gadkari incident, discuss the consequences of neglecting child safety, and finally, issue a call to action, urging everyone to prioritize child passenger safety.\\n\\n**II. Understanding the Law: Child Safety in Vehicles in India**\\n\\n**A. The Motor Vehicles Act and Amendments:**\\n\\n*   The Motor Vehicles Act, 1988, forms the foundation for road safety regulations in India. While the Act itself doesn't explicitly mandate car seats for children in private vehicles, it emphasizes the general responsibility of drivers to ensure the safety of all passengers.\\n*   **Relevant Sections:** Section 194B of the Act deals with the use of safety belts and provides for penalties for non-compliance. However, its application to children, particularly regarding mandatory child restraints, remains somewhat ambiguous.\\n*   **Amendments:** The 2019 amendment to the Motor Vehicles Act introduced stricter penalties for traffic violations, including those related to safety. While it didn't specifically address child car seats, it reinforced the importance of adhering to safety norms.\\n*   **Seat Belt Usage:** The law generally requires all occupants to wear seat belts where available. However, the suitability of adult seat belts for young children is questionable, highlighting the need for dedicated child restraint systems.\\n\\n**B. The Reality of Enforcement:**\\n\\n*   Enforcement of child safety regulations in India is, unfortunately, inconsistent and often lacking.\\n*   **Varied Application:** Implementation varies significantly across states, with some states being more proactive than others in promoting and enforcing road safety rules.\\n*   **Awareness Campaigns:** While some awareness campaigns exist, they are often insufficient to reach a large segment of the population. Many parents are unaware of the importance of car seats and the proper way to use them.\\n*   **Statistics:**  Data on child passenger safety in India paints a grim picture. Road accidents are a leading cause of death and injury for children, and a significant proportion of these cases involve unrestrained children in vehicles. According to a 2022 report by SaveLIFE Foundation, 9 children die every day on Indian roads.\\n\\n**C. Loopholes and Gray Areas:**\\n\\n*   **Ambiguity:** The lack of specific legislation mandating car seats for children in private vehicles creates a significant loophole.\\n*   **Age and Size Limitations:** The law doesn't explicitly define the age or size criteria for when a child can safely transition from a car seat to a regular seat belt.\\n*   **Exemptions:**  The application of seat belt laws to taxis and public transport vehicles is often unclear and inconsistently enforced.\\n\\n**III. Best Practices for Child Passenger Safety (Beyond the Law)**\\n\\n**A. Age and Weight-Based Car Seat Recommendations:**\\n\\n*   **Infant Car Seats (Birth to 1 year, up to 20-35 lbs):** Designed for newborns and infants, these seats are always rear-facing.\\n*   **Convertible Car Seats (Birth to 4+ years, up to 40-65 lbs):** These seats can be used rear-facing initially and then converted to forward-facing as the child grows.\\n*   **Booster Seats (4 to 12 years, 40-100 lbs):**  Used to elevate children so that the adult seat belt fits properly.\\n*   **Proper Installation:** Correct installation is crucial for the effectiveness of a car seat. Always follow the manufacturer's instructions and consider getting the seat professionally installed.\\n\\n**B. The Importance of Rear-Facing:**\\n\\n*   Rear-facing car seats provide the best protection for infants and young children.\\n*   **Physics:** In a crash, a rear-facing seat distributes the impact force across the child's entire back, neck, and head, reducing the risk of serious injury.\\n*   **Extended Rear-Facing:** Keep children rear-facing for as long as possible, until they reach the maximum weight or height limit specified by the car seat manufacturer.\\n\\n**C. Seat Belt Safety for Older Children:**\\n\\n*   **Transition to Booster:** A child is ready to transition to a booster seat when they have outgrown their forward-facing car seat (height or weight limits).\\n*   **Proper Fit:**  A seat belt fits properly when the lap belt lies low and snug across the hips, and the shoulder belt crosses the chest and shoulder, not the neck.\\n*   **Seat Belt Readiness:** A child can transition to a regular seat belt when they can sit with their back against the seat, knees bent comfortably over the edge, and maintain the proper seat belt fit.\\n\\n**D. General Safety Tips:**\\n\\n*   Never leave a child unattended in a vehicle.\\n*   Keep the car locked and keys out of reach.\\n*   Educate children about road safety rules.\\n*   Avoid distractions while driving (e.g., phone calls, texting).\\n\\n**IV. Analyzing the Gadkari Incident (Objectively and Respectfully)**\\n\\n**A. State the Facts:** A photo surfaced showing Mr. Gadkari in a car with a child, estimated to be around 7 years old.  The child's seating arrangement and whether appropriate safety measures were in place are not definitively clear from the available image.\\n\\n**B. Potential Violations:**  Without more information, it's difficult to determine if any specific laws were violated. However, if the child was not properly restrained in a car seat or booster seat, it could be considered a lapse in adhering to best practices for child passenger safety.\\n\\n**C. Possible Explanations:**  It's possible the child was only in the car for a short distance, or that other safety measures were in place that weren't visible in the photo. It's important to avoid making assumptions without complete information.\\n\\n**D. The Importance of Setting an Example:** Public figures have a significant influence on public behavior.  By consistently modeling safe behavior, especially concerning children, they can contribute to a culture of safety.\\n\\n**E. Avoiding Misinformation:**  It's crucial to avoid spreading unverified information or jumping to conclusions about the incident. Focus on the broader issue of child safety rather than dwelling on speculation.\\n\\n**V. Consequences of Ignoring Child Safety Regulations**\\n\\n**A. Legal Penalties:**  While specific penalties for not using car seats are lacking in many areas, general traffic violations related to passenger safety can result in fines.\\n\\n**B. The Risk of Injury:**\\n\\n*   **Statistics:**  Unrestrained children are significantly more likely to be injured or killed in a car accident.  Head injuries, spinal cord injuries, and internal organ damage are common.\\n*   **Increased Risk:**  An unrestrained child becomes a projectile in a crash, posing a danger to themselves and other passengers.\\n\\n**C. Emotional Trauma:**  The trauma of a car accident involving a child can have long-lasting emotional consequences for the entire family.\\n\\n**D. The Preventable Nature of these Tragedies:**  Many child injuries and fatalities in car accidents are preventable with the use of appropriate car seats and seat belts.\\n\\n**VI. Call to Action: Promoting Road Safety for Children**\\n\\n**A. Individual Actions:**\\n\\n*   Educate yourself about child passenger safety and the proper use of car seats.\\n*   Always use appropriate car seats or seat belts for your children, regardless of the distance traveled.\\n*   Practice safe driving habits and avoid distractions.\\n\\n**B. Community Advocacy:**\\n\\n*   Advocate for stricter enforcement of child safety laws in your community.\\n*   Support organizations that promote road safety for children.\\n*   Organize awareness campaigns to educate parents and caregivers.\\n\\n**C. Government Responsibility:**\\n\\n*   Strengthen child safety laws and regulations, including mandatory car seat requirements.\\n*   Increase funding for road safety education and enforcement.\\n*   Implement public awareness campaigns to promote child passenger safety.\\n\\n**D. Concluding Statement:** Protecting our children on the road is a collective responsibility. By prioritizing their safety and taking proactive measures, we can create a safer environment for all children.\\n\\n**VII. Conclusion:**\\n\\n**A. Restate Thesis:** The Gadkari incident, while initially sparking curiosity, serves as a crucial reminder of the importance of child safety in vehicles in India.  We've explored the legal landscape, examined best practices, and highlighted the need for individual and collective action.\\n\\n**B. Final Thought:** The safety of our children is non-negotiable. Let's commit to making every journey a safe one, ensuring that every child arrives home safely. This isn't just a matter of law; it's a moral imperative.\""
      ]
     },
     "execution_count": 11,
     "metadata": {},
     "output_type": "execute_result"
    }
   ],
   "source": [
    "final_state['content']"
   ]
  },
  {
   "cell_type": "code",
   "execution_count": null,
   "id": "ce61282d",
   "metadata": {},
   "outputs": [],
   "source": []
  }
 ],
 "metadata": {
  "kernelspec": {
   "display_name": ".venv",
   "language": "python",
   "name": "python3"
  },
  "language_info": {
   "codemirror_mode": {
    "name": "ipython",
    "version": 3
   },
   "file_extension": ".py",
   "mimetype": "text/x-python",
   "name": "python",
   "nbconvert_exporter": "python",
   "pygments_lexer": "ipython3",
   "version": "3.11.13"
  }
 },
 "nbformat": 4,
 "nbformat_minor": 5
}
