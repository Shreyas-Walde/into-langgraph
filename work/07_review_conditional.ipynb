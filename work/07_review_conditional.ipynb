{
 "cells": [
  {
   "cell_type": "code",
   "execution_count": 1,
   "id": "62aaf743",
   "metadata": {},
   "outputs": [
    {
     "data": {
      "text/plain": [
       "True"
      ]
     },
     "execution_count": 1,
     "metadata": {},
     "output_type": "execute_result"
    }
   ],
   "source": [
    "from langgraph.graph import StateGraph, START, END\n",
    "from langchain_google_genai import ChatGoogleGenerativeAI\n",
    "from typing import TypedDict, Literal\n",
    "from pydantic import BaseModel, Field\n",
    "\n",
    "from dotenv import load_dotenv\n",
    "\n",
    "load_dotenv()"
   ]
  },
  {
   "cell_type": "code",
   "execution_count": 2,
   "id": "9781bc9d",
   "metadata": {},
   "outputs": [],
   "source": [
    "model = ChatGoogleGenerativeAI(model='gemini-2.0-flash')"
   ]
  },
  {
   "cell_type": "code",
   "execution_count": 3,
   "id": "fcbc8afe",
   "metadata": {},
   "outputs": [
    {
     "data": {
      "text/plain": [
       "AIMessage(content='\"WBO\" most commonly refers to the **World Boxing Organization**. It\\'s one of the major organizations that sanction professional boxing bouts worldwide, alongside the WBC, IBF, and WBA. They establish rules, rate boxers, and award championship titles.\\n\\nHowever, without further context, it could potentially refer to something else. To provide a more accurate answer, could you please provide more context? For example:\\n\\n*   Where did you see/hear \"WBO\"?\\n*   What was the topic of conversation?\\n\\nWith more information, I can give you a more precise answer.', additional_kwargs={}, response_metadata={'prompt_feedback': {'block_reason': 0, 'safety_ratings': []}, 'finish_reason': 'STOP', 'model_name': 'gemini-2.0-flash', 'safety_ratings': []}, id='run--8154a697-5708-4453-aa48-85d4c3358a09-0', usage_metadata={'input_tokens': 3, 'output_tokens': 122, 'total_tokens': 125, 'input_token_details': {'cache_read': 0}})"
      ]
     },
     "execution_count": 3,
     "metadata": {},
     "output_type": "execute_result"
    }
   ],
   "source": [
    "model.invoke(\"wbo?\")"
   ]
  },
  {
   "cell_type": "markdown",
   "id": "34377084",
   "metadata": {},
   "source": []
  },
  {
   "cell_type": "markdown",
   "id": "d421a8da",
   "metadata": {},
   "source": [
    "##### Schema 1: Postive/Negative\n",
    "- for structured model 1 "
   ]
  },
  {
   "cell_type": "code",
   "execution_count": 18,
   "id": "d5b295d8",
   "metadata": {},
   "outputs": [],
   "source": [
    "# For structure output -> use Schema\n",
    "class SentimentSchema(BaseModel):\n",
    "    sentiment: Literal[\"positive\",\"negative\"] = Field(description=\"Sentiment of review\")"
   ]
  },
  {
   "cell_type": "markdown",
   "id": "4690d5cc",
   "metadata": {},
   "source": [
    "##### Schema 2: Run diagnosis\n",
    "- for structured model 2"
   ]
  },
  {
   "cell_type": "code",
   "execution_count": 19,
   "id": "7b7a9a28",
   "metadata": {},
   "outputs": [],
   "source": [
    "class DiagnosisSchema(BaseModel): \n",
    "    issue_type: Literal[\"UX\", \"Performance\", \"Bug\", \"Support\", \"Other\"] = Field(description='The category of issue mentioned in the review')\n",
    "    tone: Literal[\"angry\", \"frustrated\", \"disappointed\", \"calm\"] = Field(description='The emotional tone expressed by the user')\n",
    "    urgency: Literal[\"low\", \"medium\", \"high\"] = Field(description='How urgent or critical the issue appears to be')    "
   ]
  },
  {
   "cell_type": "code",
   "execution_count": 20,
   "id": "46c7513e",
   "metadata": {},
   "outputs": [],
   "source": [
    "structured_model = model.with_structured_output(SentimentSchema)\n",
    "structured_model2 = model.with_structured_output(DiagnosisSchema)"
   ]
  },
  {
   "cell_type": "markdown",
   "id": "797206a3",
   "metadata": {},
   "source": [
    "- test "
   ]
  },
  {
   "cell_type": "code",
   "execution_count": 21,
   "id": "9e6a7ae0",
   "metadata": {},
   "outputs": [
    {
     "data": {
      "text/plain": [
       "'negative'"
      ]
     },
     "execution_count": 21,
     "metadata": {},
     "output_type": "execute_result"
    }
   ],
   "source": [
    "prompt = \"What is the sentiment of the following review - The software is very bad\"\n",
    "structured_model.invoke(prompt).sentiment"
   ]
  },
  {
   "cell_type": "markdown",
   "id": "e55732e0",
   "metadata": {},
   "source": [
    "##### Schema 3: Review state (overall)\n"
   ]
  },
  {
   "cell_type": "code",
   "execution_count": 22,
   "id": "7183d429",
   "metadata": {},
   "outputs": [],
   "source": [
    "class ReviewState(TypedDict):\n",
    "    \n",
    "    review: str\n",
    "    sentiment: Literal[\"positive\", \"negative\"]\n",
    "    diagnosis:  dict\n",
    "    response: str"
   ]
  },
  {
   "cell_type": "code",
   "execution_count": 23,
   "id": "0b261882",
   "metadata": {},
   "outputs": [],
   "source": [
    "def find_sentiment(state: ReviewState):\n",
    "\n",
    "    prompt = f'For the following review find out the sentiment \\n {state[\"review\"]}'\n",
    "    sentiment = structured_model.invoke(prompt).sentiment\n",
    "\n",
    "    return {'sentiment': sentiment}\n",
    "\n",
    "def check_sentiment(state: ReviewState) -> Literal['positive_response', 'run_diagnosis']: \n",
    "\n",
    "    if state['sentiment'] == 'positive':\n",
    "        return 'positive_response'\n",
    "    else:\n",
    "        return 'run_diagnosis'\n",
    "    \n",
    "# Positive Response\n",
    "def positive_response(state: ReviewState):\n",
    "    prompt = f\"\"\"Write a warm thank-you message in response to this review: \\n\\n \"{state['review']} \\n also, Kindly ask the user to leave feedback on our website. \"\"\"  \n",
    "\n",
    "    response = model.invoke(prompt).content  \n",
    "    return {'response': response}\n",
    "\n",
    "# Run diagonsis for negative response\n",
    "def run_diagnosis(state: ReviewState):\n",
    "    prompt = f\"\"\"Diagnose this negative review:\\n\\n{state['review']}\\n\"\n",
    "    \"Return issue_type, tone, and urgency.\"\"\"\n",
    "\n",
    "    response = structured_model2.invoke(prompt)\n",
    "\n",
    "    return {'diagnosis': response.model_dump()}\n",
    "    # response is -> pydantic object \n",
    "    # response -> json / pydantic object will convert into dict\n",
    "\n",
    "# Negative Response\n",
    "def negative_response(state: ReviewState):\n",
    "\n",
    "    diagnosis = state['diagnosis'] # dict\n",
    "#  below we are extracting keys of diagnosis dictionary\n",
    "\n",
    "    prompt = f\"\"\"You are a support assistant.\n",
    "    The user had a '{diagnosis['issue_type']}' issue, sounded '{diagnosis['tone']}', and marked urgency as '{diagnosis['urgency']}'.\n",
    "    Write an empathetic, helpful resolution message.\n",
    "    \"\"\" \n",
    "    response = model.invoke(prompt).content\n",
    "    return {'response':response}"
   ]
  },
  {
   "cell_type": "code",
   "execution_count": 24,
   "id": "48309177",
   "metadata": {},
   "outputs": [],
   "source": [
    "# Creating a graph\n",
    "\n",
    "graph = StateGraph(ReviewState)\n",
    "\n",
    "# nodes\n",
    "graph.add_node('find_sentiment', find_sentiment)\n",
    "graph.add_node('positive_response', positive_response)\n",
    "graph.add_node('run_diagnosis', run_diagnosis)\n",
    "graph.add_node('negative_response', negative_response)\n",
    "# graph.add_node('check_sentiment', check_sentiment)\n",
    "\n",
    "# edges\n",
    "graph.add_edge(START, 'find_sentiment')\n",
    "graph.add_conditional_edges('find_sentiment',check_sentiment)\n",
    "\n",
    "graph.add_edge('positive_response', END)\n",
    "graph.add_edge('run_diagnosis','negative_response')\n",
    "graph.add_edge('negative_response', END)\n",
    "\n",
    "workflow = graph.compile()\n",
    "\n"
   ]
  },
  {
   "cell_type": "code",
   "execution_count": 25,
   "id": "62051cf0",
   "metadata": {},
   "outputs": [
    {
     "data": {
      "image/png": "[encoded data removed]",
      "text/plain": [
       "<langgraph.graph.state.CompiledStateGraph object at 0x0000015B8FA99190>"
      ]
     },
     "execution_count": 25,
     "metadata": {},
     "output_type": "execute_result"
    }
   ],
   "source": [
    "workflow"
   ]
  },
  {
   "cell_type": "code",
   "execution_count": 28,
   "id": "a78ab92d",
   "metadata": {
    "vscode": {
     "languageId": "javascript"
    }
   },
   "outputs": [
    {
     "data": {
      "text/plain": [
       "{'review': 'Ive been trying to log in for over an hour now, and the app keeps freezing on the authentication screen. I even tried reinstalling it, but no luck. This kind of bug is unacceptable, especially when it affects basic functionality.',\n",
       " 'sentiment': 'negative',\n",
       " 'diagnosis': {'issue_type': 'Bug', 'tone': 'angry', 'urgency': 'high'},\n",
       " 'response': \"Okay, I understand you're experiencing a bug, you're understandably frustrated, and you need this resolved quickly. I want to assure you that I'm here to help and I'll do everything I can to get this sorted out for you.\\n\\nFirst, I want to sincerely apologize for the inconvenience this bug is causing. I know how disruptive these issues can be, especially when you have important tasks to complete.\\n\\nTo help me understand the situation and find the fastest solution, could you please provide a little more detail about:\\n\\n*   **What exactly is happening?** (Be as specific as possible, including error messages, steps to reproduce the issue, and what you were trying to do when the bug occurred.)\\n*   **What is the impact of this bug on your workflow?** (Knowing how this is affecting you helps me prioritize getting the right fix in place.)\\n*   **What steps have you already tried to resolve the issue?** (This helps me avoid suggesting solutions you've already attempted.)\\n\\nIn the meantime, while I'm waiting for that information, I'll immediately:\\n\\n*   **Escalate this issue to our development team** so they can start investigating the code.\\n*   **Check our known issues database** to see if this is a recurring problem with a known workaround.\\n\\nI will keep you updated on the progress every [Specify Timeframe - e.g., 30 minutes, hour, etc.] until we have a resolution. My goal is to get this fixed for you as quickly as possible.\\n\\nThank you for your patience and understanding. I'm committed to getting this resolved for you.\"}"
      ]
     },
     "execution_count": 28,
     "metadata": {},
     "output_type": "execute_result"
    }
   ],
   "source": [
    "initial_state = {\n",
    "    'review': \"Ive been trying to log in for over an hour now, and the app keeps freezing on the authentication screen. I even tried reinstalling it, but no luck. This kind of bug is unacceptable, especially when it affects basic functionality.\"\n",
    "}\n",
    "workflow.invoke(initial_state)"
   ]
  },
  {
   "cell_type": "code",
   "execution_count": null,
   "id": "fa9479b1",
   "metadata": {},
   "outputs": [],
   "source": []
  }
 ],
 "metadata": {
  "kernelspec": {
   "display_name": "lgraph",
   "language": "python",
   "name": "python3"
  },
  "language_info": {
   "codemirror_mode": {
    "name": "ipython",
    "version": 3
   },
   "file_extension": ".py",
   "mimetype": "text/x-python",
   "name": "python",
   "nbconvert_exporter": "python",
   "pygments_lexer": "ipython3",
   "version": "3.11.13"
  }
 },
 "nbformat": 4,
 "nbformat_minor": 5
}
