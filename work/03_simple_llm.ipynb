{
 "cells": [
  {
   "cell_type": "code",
   "execution_count": 7,
   "id": "54d9381c",
   "metadata": {},
   "outputs": [
    {
     "data": {
      "text/plain": [
       "True"
      ]
     },
     "execution_count": 7,
     "metadata": {},
     "output_type": "execute_result"
    }
   ],
   "source": [
    "from langgraph.graph import StateGraph, START, END\n",
    "from langchain_google_genai import ChatGoogleGenerativeAI\n",
    "from typing import TypedDict\n",
    "from dotenv import load_dotenv\n",
    "\n",
    "load_dotenv()"
   ]
  },
  {
   "cell_type": "code",
   "execution_count": 8,
   "id": "1143a5b3",
   "metadata": {},
   "outputs": [],
   "source": [
    "model = ChatGoogleGenerativeAI(model='gemini-2.0-flash')"
   ]
  },
  {
   "cell_type": "code",
   "execution_count": 9,
   "id": "dcbaa563",
   "metadata": {},
   "outputs": [],
   "source": [
    "# create a State\n",
    "class LLMState(TypedDict): # acts as memory for the agent\n",
    "\n",
    "    question: str\n",
    "    answer:str"
   ]
  },
  {
   "cell_type": "code",
   "execution_count": 10,
   "id": "da2140fb",
   "metadata": {},
   "outputs": [],
   "source": [
    "def llm_qa(state: LLMState) -> LLMState: # return LLMState object\n",
    "\n",
    "    # extract question from state\n",
    "    question = state['question']\n",
    "\n",
    "    # form a prompt\n",
    "    prompt = f'Answer the following question {question}'\n",
    "\n",
    "    # ask that question to the LLM\n",
    "    answer = model.invoke(prompt).content\n",
    "    # update the answer in the state\n",
    "    state['answer'] = answer\n",
    "\n",
    "    return state"
   ]
  },
  {
   "cell_type": "code",
   "execution_count": 11,
   "id": "1ceff7d1",
   "metadata": {},
   "outputs": [],
   "source": [
    "# Create a graph\n",
    "\n",
    "graph = StateGraph(LLMState)\n",
    "\n",
    "# add nodes\n",
    "graph.add_node(\"llm_qa\", llm_qa)\n",
    "\n",
    "# add edges\n",
    "graph.add_edge(START,'llm_qa')\n",
    "graph.add_edge('llm_qa', END)\n",
    "\n",
    "# compile\n",
    "workflow = graph.compile()\n"
   ]
  },
  {
   "cell_type": "code",
   "execution_count": 12,
   "id": "3f184935",
   "metadata": {},
   "outputs": [
    {
     "name": "stdout",
     "output_type": "stream",
     "text": [
      "{'question': 'How far is moon from the earth', 'answer': \"The distance between the Earth and the Moon isn't constant, as the Moon's orbit is an ellipse.\\n\\n*   **Average distance:** 384,400 kilometers (238,900 miles)\\n\\n*   **Perigee (closest point):** Around 363,104 kilometers (225,623 miles)\\n\\n*   **Apogee (farthest point):** Around 405,696 kilometers (252,088 miles)\"}\n"
     ]
    }
   ],
   "source": [
    "# execute \n",
    "\n",
    "initial_state = {'question': 'How far is moon from the earth'}\n",
    "final_state = workflow.invoke(initial_state)\n",
    "\n",
    "print(final_state)"
   ]
  },
  {
   "cell_type": "code",
   "execution_count": 13,
   "id": "37067910",
   "metadata": {},
   "outputs": [
    {
     "name": "stdout",
     "output_type": "stream",
     "text": [
      "The distance between the Earth and the Moon isn't constant, as the Moon's orbit is an ellipse.\n",
      "\n",
      "*   **Average distance:** 384,400 kilometers (238,900 miles)\n",
      "\n",
      "*   **Perigee (closest point):** Around 363,104 kilometers (225,623 miles)\n",
      "\n",
      "*   **Apogee (farthest point):** Around 405,696 kilometers (252,088 miles)\n"
     ]
    }
   ],
   "source": [
    "print(final_state['answer'])"
   ]
  },
  {
   "cell_type": "code",
   "execution_count": 6,
   "id": "4454e69c",
   "metadata": {},
   "outputs": [
    {
     "data": {
      "image/png": "[encoded data removed]",
      "text/plain": [
       "<langgraph.graph.state.CompiledStateGraph object at 0x000001ED5E567D50>"
      ]
     },
     "execution_count": 6,
     "metadata": {},
     "output_type": "execute_result"
    }
   ],
   "source": [
    "workflow"
   ]
  },
  {
   "cell_type": "code",
   "execution_count": null,
   "id": "5a2e0a8d",
   "metadata": {},
   "outputs": [],
   "source": []
  }
 ],
 "metadata": {
  "kernelspec": {
   "display_name": "lgraph",
   "language": "python",
   "name": "python3"
  },
  "language_info": {
   "codemirror_mode": {
    "name": "ipython",
    "version": 3
   },
   "file_extension": ".py",
   "mimetype": "text/x-python",
   "name": "python",
   "nbconvert_exporter": "python",
   "pygments_lexer": "ipython3",
   "version": "3.11.13"
  }
 },
 "nbformat": 4,
 "nbformat_minor": 5
}
